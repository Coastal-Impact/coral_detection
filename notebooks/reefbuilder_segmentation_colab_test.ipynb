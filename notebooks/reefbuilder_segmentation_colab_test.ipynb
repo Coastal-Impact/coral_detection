{
  "nbformat": 4,
  "nbformat_minor": 0,
  "metadata": {
    "colab": {
      "provenance": []
    },
    "kernelspec": {
      "name": "python3",
      "display_name": "Python 3"
    },
    "language_info": {
      "name": "python"
    }
  },
  "cells": [
    {
      "cell_type": "markdown",
      "source": [
        "Testing Test PyPi installation"
      ],
      "metadata": {
        "id": "_BSFX_xukR7q"
      }
    },
    {
      "cell_type": "code",
      "execution_count": null,
      "metadata": {
        "id": "TPAugBIyoc3r",
        "collapsed": true
      },
      "outputs": [],
      "source": [
        "!pip install --extra-index-url https://test.pypi.org/simple/ reefbuilder_segmentation==0.1.1"
      ]
    },
    {
      "cell_type": "code",
      "source": [
        "# checking validity of images and labels\n",
        "from reefbuilder_segmentation.checks.images import ImageChecker\n",
        "from reefbuilder_segmentation.checks.labels import LabelChecker\n",
        "\n",
        "\n",
        "source_image_folder = \"./ci-images\"\n",
        "source_label_folder = \"./ci-labels\"\n",
        "\n",
        "if __name__ == \"__main__\":\n",
        "    ic = ImageChecker(source_image_folder)\n",
        "    ic.describe()\n",
        "    ic.check_images()\n",
        "\n",
        "    lc = LabelChecker(source_label_folder)\n",
        "    lc.describe()\n",
        "    lc.check_labels()"
      ],
      "metadata": {
        "id": "uFi1Qz-ej-Yo"
      },
      "execution_count": 9,
      "outputs": []
    },
    {
      "cell_type": "code",
      "source": [
        "# running preprocessing and modelling code\n",
        "from reefbuilder_segmentation.preprocess.dataset import Preprocessor\n",
        "from reefbuilder_segmentation.modelling.base import Model\n",
        "\n",
        "# preprocessing\n",
        "source_image_folder = \"ci-images\"\n",
        "source_label_folder = \"ci-labels\"\n",
        "\n",
        "preprocess_config = {\n",
        "    \"label_mapping\": {\n",
        "        \"coral\": \"CORAL\",\n",
        "        \"ref\": \"REF\",\n",
        "        \"coral_a\": \"CORAL\",\n",
        "        \"coral_b\": \"CORAL\",\n",
        "        \"coral_c\": \"CORAL\",\n",
        "        \"coral_d\": \"CORAL\",\n",
        "    },\n",
        "    \"train_fraction\": 0.6,\n",
        "    \"val_fraction\": 0.2,\n",
        "    \"test_fraction\": 0.2,\n",
        "    \"split_seed\": 0,\n",
        "}\n",
        "\n",
        "prep = Preprocessor(source_image_folder, source_label_folder)\n",
        "ds = prep.create_dataset()\n",
        "prep.preprocess_dataset(preprocess_config)\n",
        "\n",
        "# modelling\n",
        "model_location = \"./reefbuilder_segmentation/models/yolov8m-seg.pt\"\n",
        "\n",
        "model = Model(\n",
        "    prep.dataset,\n",
        ")\n",
        "model.train_yolo(\n",
        "    epochs=1,\n",
        "    imgsz=640,\n",
        "    batch=4,\n",
        "    model_location=model_location,\n",
        ")"
      ],
      "metadata": {
        "id": "fBd0zLuly9kd"
      },
      "execution_count": null,
      "outputs": []
    },
    {
      "cell_type": "code",
      "source": [
        "!pip uninstall reefbuilder_segmentation -y"
      ],
      "metadata": {
        "id": "1_6HJ0Zlka43"
      },
      "execution_count": null,
      "outputs": []
    },
    {
      "cell_type": "markdown",
      "source": [
        "Testing actual PyPi installation"
      ],
      "metadata": {
        "id": "2ve56_ulkena"
      }
    },
    {
      "cell_type": "markdown",
      "source": [
        "*pending...*"
      ],
      "metadata": {
        "id": "6GLVLQSrkoRS"
      }
    }
  ]
}